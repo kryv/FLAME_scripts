{
 "cells": [
  {
   "cell_type": "code",
   "execution_count": 9,
   "id": "40a23121",
   "metadata": {},
   "outputs": [],
   "source": [
    "from concurrent.futures import ThreadPoolExecutor\n",
    "import time"
   ]
  },
  {
   "cell_type": "code",
   "execution_count": 18,
   "id": "009e30e3",
   "metadata": {},
   "outputs": [],
   "source": [
    "n = 0\n",
    "def boil(t=3, b=1):\n",
    "    global n\n",
    "    print('start '+str(n))\n",
    "    time.sleep(t)\n",
    "    print('fin '+str(n))\n",
    "    n += 1\n",
    "    return False\n",
    "\n",
    "v = True\n",
    "def update(x):\n",
    "    print(x)"
   ]
  },
  {
   "cell_type": "code",
   "execution_count": 19,
   "id": "9aa3cb33",
   "metadata": {},
   "outputs": [],
   "source": [
    "#Define ThreadPool max_workers=3\n",
    "tpe = ThreadPoolExecutor(max_workers=3)"
   ]
  },
  {
   "cell_type": "code",
   "execution_count": 20,
   "id": "826bd6d8",
   "metadata": {},
   "outputs": [
    {
     "name": "stdout",
     "output_type": "stream",
     "text": [
      "start 0\n",
      "fin 0\n",
      "<Future at 0x7fc43d15f1d0 state=finished returned bool>\n"
     ]
    }
   ],
   "source": [
    "# submit one job\n",
    "xx = tpe.submit(boil, t=3, b=5)\n",
    "# call function at the timing of xx is done\n",
    "xx.add_done_callback(update)"
   ]
  },
  {
   "cell_type": "code",
   "execution_count": 21,
   "id": "95193120",
   "metadata": {},
   "outputs": [
    {
     "name": "stdout",
     "output_type": "stream",
     "text": [
      "start 1\n",
      "start 1\n",
      "start 1\n",
      "fin 1\n",
      "start 2\n",
      "fin 2\n",
      "start 3\n",
      "fin 3\n",
      "start 4\n",
      "fin 4\n",
      "start 5\n",
      "fin 5\n",
      "start 6\n",
      "fin 6\n",
      "start 7\n",
      "fin 7fin 7\n",
      "start 8\n",
      "fin 8\n",
      "\n",
      "fin 10\n"
     ]
    }
   ],
   "source": [
    "# submit mutiple job, run the 3 thread at the time because the max_workers=3\n",
    "for i in range(10):\n",
    "    tpe.submit(boil, t=3, b=5)"
   ]
  },
  {
   "cell_type": "code",
   "execution_count": null,
   "id": "2c6e812b",
   "metadata": {},
   "outputs": [],
   "source": []
  }
 ],
 "metadata": {
  "kernelspec": {
   "display_name": "Python 3 (ipykernel)",
   "language": "python",
   "name": "python3"
  },
  "language_info": {
   "codemirror_mode": {
    "name": "ipython",
    "version": 3
   },
   "file_extension": ".py",
   "mimetype": "text/x-python",
   "name": "python",
   "nbconvert_exporter": "python",
   "pygments_lexer": "ipython3",
   "version": "3.7.10"
  }
 },
 "nbformat": 4,
 "nbformat_minor": 5
}
