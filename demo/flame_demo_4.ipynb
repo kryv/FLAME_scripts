{
 "cells": [
  {
   "cell_type": "code",
   "execution_count": 1,
   "id": "1d73e1a1",
   "metadata": {},
   "outputs": [],
   "source": [
    "from flame_utils import ModelFlame, hplot\n",
    "from flame import Machine\n",
    "from collections import OrderedDict\n",
    "import numpy as np"
   ]
  },
  {
   "cell_type": "markdown",
   "id": "7de70471",
   "metadata": {},
   "source": [
    "## create `ModelFlame` object from scratch"
   ]
  },
  {
   "cell_type": "code",
   "execution_count": 2,
   "id": "7a8b1e21",
   "metadata": {},
   "outputs": [],
   "source": [
    "vec = np.zeros(7)\n",
    "vec[6] = 1.0\n",
    "mat = np.zeros([7, 7])\n",
    "mat[0, 0] = mat[2, 2] = 1.0\n",
    "mat[1, 1] = mat[3, 3] = 1.0e-6\n",
    "\n",
    "source = OrderedDict([\n",
    "    ('name', 'S'),\n",
    "    ('type', 'source'),\n",
    "    ('vector_variable', 'BC'),\n",
    "    ('matrix_variable', 'S')\n",
    "])\n",
    "\n",
    "conf = OrderedDict([\n",
    "    ('sim_type', 'MomentMatrix'),\n",
    "    ('IonEk', 1e6),\n",
    "    ('IonEs', 931494320.0),\n",
    "    ('IonChargeStates', np.array([0.5])),\n",
    "    ('NCharge', np.array([1.0])),\n",
    "    ('BC0', vec),\n",
    "    ('S0', mat),\n",
    "    ('elements', [source])\n",
    "])"
   ]
  },
  {
   "cell_type": "code",
   "execution_count": 3,
   "id": "9a11cb67",
   "metadata": {},
   "outputs": [],
   "source": [
    "fm = ModelFlame(machine=Machine(conf))"
   ]
  },
  {
   "cell_type": "markdown",
   "id": "a5c6c297",
   "metadata": {},
   "source": [
    "## insert elements for testing"
   ]
  },
  {
   "cell_type": "code",
   "execution_count": 4,
   "id": "d9c09c3a",
   "metadata": {},
   "outputs": [],
   "source": [
    "fm.insert_element(1, {'name':'dr1', 'type': 'drift', 'L': 1.0})\n",
    "fm.insert_element(2, {'name':'qd1', 'type': 'quadrupole', 'L': 1.0, 'B2':0.5})\n",
    "fm.insert_element(3, {'name':'dr2', 'type': 'drift', 'L': 1.0})"
   ]
  },
  {
   "cell_type": "code",
   "execution_count": 5,
   "id": "24a3f63c",
   "metadata": {},
   "outputs": [
    {
     "data": {
      "image/png": "[encoded data removed]",
      "text/plain": [
       "<Figure size 432x288 with 1 Axes>"
      ]
     },
     "metadata": {
      "needs_background": "light"
     },
     "output_type": "display_data"
    }
   ],
   "source": [
    "hplot('xrms', 'yrms', machine=fm)"
   ]
  }
 ],
 "metadata": {
  "kernelspec": {
   "display_name": "Python 3 (ipykernel)",
   "language": "python",
   "name": "python3"
  },
  "language_info": {
   "codemirror_mode": {
    "name": "ipython",
    "version": 3
   },
   "file_extension": ".py",
   "mimetype": "text/x-python",
   "name": "python",
   "nbconvert_exporter": "python",
   "pygments_lexer": "ipython3",
   "version": "3.7.10"
  }
 },
 "nbformat": 4,
 "nbformat_minor": 5
}
